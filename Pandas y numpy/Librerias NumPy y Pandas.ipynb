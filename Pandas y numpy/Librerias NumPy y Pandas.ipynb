{
 "cells": [
  {
   "cell_type": "markdown",
   "id": "e7ad0964-9581-4988-b298-0d328a4f63a8",
   "metadata": {},
   "source": [
    "# 📚 Librerias NumPy y Pandas"
   ]
  },
  {
   "cell_type": "markdown",
   "id": "713768dc-e708-41f2-bd89-390cda12f655",
   "metadata": {},
   "source": [
    "## 🔹 1. NymPy 💻🧮\n",
    "NumPy es una librería de Python especializada en el cálculo numérico y el análisis de datos, especialmente para un gran volumen de datos.\n",
    "\n",
    "Incorpora una nueva clase de objetos llamados `arrays` que permite representar colecciones de datos de un mismo tipo en varias dimensiones, y funciones muy eficientes para su manipulación.\n",
    "\n",
    "La ventaja de Numpy frente a las listas predefinidas en Python es que el procesamiento de los arrays se realiza mucho más rápido (hasta 50 veces más) que las listas, lo cual la hace ideal para el procesamiento de vectores y matrices de grandes dimensiones."
   ]
  },
  {
   "cell_type": "code",
   "execution_count": 3,
   "id": "b469b7b9-0312-4a6d-82c5-2077dfe0dd2a",
   "metadata": {},
   "outputs": [
    {
     "name": "stdout",
     "output_type": "stream",
     "text": [
      "La media de las calificaciones de los 50 alumnos es: 76.88\n",
      "La mediada de las calificaciones fue: 75.5\n",
      "La desviacion estandar de las calficaciones fue: 12.681703355622226\n",
      "La calificacion mas alta fue: 100\n",
      "La calificacion mas baja fue: 55\n"
     ]
    }
   ],
   "source": [
    "##Ejemplo del uso de la biblioteca NumPy\n",
    "import numpy as np #Importacion con alias\n",
    "\n",
    "calif = np.array ([55, 60, 58, 62, 64, 59, 61, 63, 65, 67,\n",
    "69, 70, 68, 72, 74, 73, 75, 76, 78, 80,\n",
    "79, 81, 83, 85, 82, 86, 87, 88, 90, 89,\n",
    "91, 93, 92, 94, 95, 96, 97, 98, 99, 100,\n",
    "78, 76, 74, 72, 70, 68, 66, 64, 62, 60])\n",
    "\n",
    "#Procedemos a aplicar las siguientes funciones al array\n",
    "print(f\"La media de las calificaciones de los 50 alumnos es: {np.mean(calif)}\") #Calcular la media\n",
    "print(f\"La mediada de las calificaciones fue: {np.median(calif)}\") #Calcular la mediana\n",
    "print(f\"La desviacion estandar de las calficaciones fue: {np.std(calif)}\") #Calcular la desviación estándar\n",
    "print(f\"La calificacion mas alta fue: {np.max(calif)}\") #Encontrar el valor máximo\n",
    "print(f\"La calificacion mas baja fue: {np.min(calif)}\") #Encontrar el valor mínimo"
   ]
  },
  {
   "cell_type": "markdown",
   "id": "ab3e466c-49bf-4960-a3b7-45ec9c5f2cb4",
   "metadata": {},
   "source": [
    "## 🔹 2. Pandas 🐼📊\n",
    "Pandas proporciona una serie de estructuras de datos y funciones para trabajar con datos estructurados. Las dos principales estructuras de datos en Pandas son `Series` y `DataFrames`. \n",
    "\n",
    "Una `Serie` es un array unidimensional que puede almacenar cualquier tipo de datos.\n",
    "\n",
    "Un `DataFrame` es una tabla bidimensional que puede almacenar múltiples `Series`. \n",
    "\n",
    "Pandas proporciona una serie de funciones para seleccionar, filtrar y manipular datos en estas estructuras. Algunas de las principales ventajas de usar Pandas incluyen:\n",
    "\n",
    "- Carga eficiente de datos y manipulación de grandes conjuntos de datos.\n",
    "- Sintaxis intuitiva y flexible para la manipulación y el análisis de datos\n",
    "- Soporte completo para datos que faltan y limpieza de datos\n",
    "- Potentes funciones de agregación y agrupación de datos"
   ]
  },
  {
   "cell_type": "code",
   "execution_count": 7,
   "id": "72c6908f-35df-4e87-9c14-58d1cb0ceef1",
   "metadata": {},
   "outputs": [
    {
     "name": "stdout",
     "output_type": "stream",
     "text": [
      "El tamano de la muestra es de: 50\n",
      "El numero intervalos de clase a usar son 7\n",
      "La amplitud de cada intervalo de clase es de: 6.4\n",
      "[np.int64(55), np.float64(61.4), np.float64(67.9), np.float64(74.3), np.float64(80.7), np.float64(87.1), np.float64(93.6)]\n",
      "[np.float64(61.4), np.float64(67.9), np.float64(74.3), np.float64(80.7), np.float64(87.1), np.float64(93.6), np.float64(100.0)]\n",
      "   Limite inferior  Limite superior  Frecuencia\n",
      "1             55.0             61.4           6\n",
      "2             61.4             67.9           8\n",
      "3             67.9             74.3          10\n",
      "4             74.3             80.7           7\n",
      "5             80.7             87.1           6\n",
      "6             87.1             93.6           6\n",
      "7             93.6            100.0           7\n"
     ]
    }
   ],
   "source": [
    "#Ejemplo del uso de la biblioteca Pandas\n",
    "#Declaracion de uso de bibliotecas\n",
    "import numpy as np\n",
    "import pandas as pd\n",
    "\n",
    "calif = np.array ([55, 60, 58, 62, 64, 59, 61, 63, 65, 67,\n",
    "69, 70, 68, 72, 74, 73, 75, 76, 78, 80,\n",
    "79, 81, 83, 85, 82, 86, 87, 88, 90, 89,\n",
    "91, 93, 92, 94, 95, 96, 97, 98, 99, 100,\n",
    "78, 76, 74, 72, 70, 68, 66, 64, 62, 60]) #Comjunto de datos a usar\n",
    "\n",
    "Li = [] #Limite inferior\n",
    "LS = [] #Limite superior\n",
    "LiD = np.min(calif)\n",
    "LSD = np.max(calif)\n",
    "Frec = []\n",
    "\n",
    "a = 0 #Contador de posicion de los elementos de los arrays de limite superior e inferior\n",
    "\n",
    "#Haremos una tabla con datos para usar en estadistica, solo como demostracion\n",
    "long = len(calif) #Conocimiento del tamano de la muestra\n",
    "print(f\"El tamano de la muestra es de: {long}\")\n",
    "\n",
    "ESt = 1 + 3.322* np.log10(long) #Aplicacion de la Ec. de Sturges para en no. de intervalos de clase\n",
    "ESt = round(ESt) #Redondeo del numero intervalos\n",
    "print(f\"El numero intervalos de clase a usar son {ESt}\")\n",
    "\n",
    "Amp = (LSD - LiD)/ ESt #Amplitud o largo del intervalo de clase\n",
    "print(f\"La amplitud de cada intervalo de clase es de: {Amp:.1f}\") #Redondeo de la amplitus a un decimal\n",
    "\n",
    "while a < ESt: #Ciclo se repite hasta el numero de intervalos\n",
    "    Li.append(round(LiD, 1))\n",
    "    LSD = LiD + Amp\n",
    "    LS.append(round(LSD,1))\n",
    "    LiD = LSD\n",
    "    a += 1\n",
    "print(Li)\n",
    "print(LS)\n",
    "a = 0\n",
    "\n",
    "for a in range(len(Li)): #\n",
    "    en_rango = (calif >= Li[a] ) & (calif <= LS[a])\n",
    "    cant_en_rango = np.sum(en_rango)\n",
    "    Frec.append(cant_en_rango)\n",
    "\n",
    "df = pd.DataFrame({\n",
    "    \"Limite inferior\": Li,\n",
    "    \"Limite superior\": LS,\n",
    "    \"Frecuencia\": Frec\n",
    "})\n",
    "df.index = df.index + 1\n",
    "print(df.to_string(index=True))"
   ]
  },
  {
   "cell_type": "code",
   "execution_count": 8,
   "id": "fc820dbd-8b7c-4f42-a016-2636b938acee",
   "metadata": {},
   "outputs": [],
   "source": [
    "#Ejercicio adicional usando Random\n",
    "#Prueba del uso de la funcion random\n",
    "import numpy as np\n",
    "import pandas as pd\n",
    "numrand = []\n",
    "\n",
    "for i in range (20):\n",
    "    num = np.random.rand()\n",
    "    ent = np.random.randint(1, 10)\n",
    "    verand = num*(10**ent)\n",
    "    verand_f = f\"{verand:.3f}\"\n",
    "    numrand.append(verand_f)\n",
    "print(numrand)\n",
    "\n",
    "#convertirlo en un dataframe\n",
    "df = pd.DataFrame(numrand, columns=[\"Número aleatorio (ajustado)\"])\n",
    "\n",
    "# Mostrar tabla sin columna de índice si prefieres\n",
    "df.index = df.index + 1\n",
    "print(df.to_string(index=True))"
   ]
  },
  {
   "cell_type": "code",
   "execution_count": null,
   "id": "9bdcc2dc-1201-4b4e-8eb6-819e218af76a",
   "metadata": {},
   "outputs": [],
   "source": []
  }
 ],
 "metadata": {
  "kernelspec": {
   "display_name": "Python 3 (ipykernel)",
   "language": "python",
   "name": "python3"
  },
  "language_info": {
   "codemirror_mode": {
    "name": "ipython",
    "version": 3
   },
   "file_extension": ".py",
   "mimetype": "text/x-python",
   "name": "python",
   "nbconvert_exporter": "python",
   "pygments_lexer": "ipython3",
   "version": "3.13.2"
  }
 },
 "nbformat": 4,
 "nbformat_minor": 5
}
