{
 "cells": [
  {
   "cell_type": "markdown",
   "metadata": {},
   "source": [
    "# Actividades Avanzadas: Estructuras de Datos en Python\n",
    "\n",
    "Completa los ejercicios propuestos en cada sección para reforzar el uso de estructuras de datos en Python.\n",
    "Hecho por Cesar Arturo Del Angel Alvino"
   ]
  },
  {
   "cell_type": "markdown",
   "metadata": {},
   "source": [
    "## 1. Tuplas (Datos Inmutables)\n",
    "Las tuplas son útiles cuando los datos no deben cambiar."
   ]
  },
  {
   "cell_type": "markdown",
   "metadata": {},
   "source": [
    "**Ejercicio 1:** Un sensor de presión tiene coeficientes de calibración definidos como una tupla `(a, b, c)`. Crea una tupla con valores hipotéticos y usa la ecuación `P = a*x^2 + b*x + c` para calcular la presión con un valor de entrada `x = 5`."
   ]
  },
  {
   "cell_type": "code",
   "execution_count": 5,
   "metadata": {},
   "outputs": [
    {
     "name": "stdout",
     "output_type": "stream",
     "text": [
      "La presion total con un valor de entrada de 5 N es de: 587 Pa\n"
     ]
    }
   ],
   "source": [
    "#Definicion de valores\n",
    "Calib_sen = (20,15,12) #Valores de los coeficientes calibracion del sensor de presion\n",
    "a, b, c = Calib_sen #Asignacion de etiqueta a cada valor de la tupla\n",
    "x = 5 #Valor de entrada definido\n",
    "\n",
    "#Calculo de la presion dada una ecuacion\n",
    "P = a*x**2+b*x+c\n",
    "print(f\"La presion total con un valor de entrada de {x} N es de: {P} Pa\")"
   ]
  },
  {
   "cell_type": "markdown",
   "metadata": {},
   "source": [
    "**Ejercicio 2:** Dada una tupla con las configuraciones de un ADC (`(resolución_bits, voltaje_referencia)`), extrae los valores individuales y calcula el valor de un LSB (Least Significant Bit)."
   ]
  },
  {
   "cell_type": "code",
   "execution_count": 3,
   "metadata": {},
   "outputs": [
    {
     "name": "stdout",
     "output_type": "stream",
     "text": [
      "Resolucion del ADC: 8 bits\n",
      "Voltaje de referencia del ADC: 5\n",
      "LSB: 0.01953125 V\n"
     ]
    }
   ],
   "source": [
    "#Definicion de los valores de ADC\n",
    "Config_ADC = (8, 5) #La resolucion del ADC es de 8 bits y el voltaje de referencia es de 5V\n",
    "Rbit, Vref = Config_ADC #Se asginan las etiquetas de resolucion de ADC y el voltaja de referencia, respectivamente a la tupla\n",
    "LSB = Vref / (2**Rbit) #El bit con el menor valor posible, en este caso valor de voltaje\n",
    "\n",
    "#Impresion de los datos del programa\n",
    "print(f\"Resolucion del ADC: {Rbit} bits\")\n",
    "print(f\"Voltaje de referencia del ADC: {Vref}\")\n",
    "print(f\"LSB: {LSB} V\")"
   ]
  },
  {
   "cell_type": "markdown",
   "metadata": {},
   "source": [
    "## 2. Listas (Datos Dinámicos)\n",
    "Las listas permiten agregar, modificar y analizar datos."
   ]
  },
  {
   "cell_type": "markdown",
   "metadata": {},
   "source": [
    "**Ejercicio 3:** Simula la adquisición de 10 muestras de temperatura de un sensor, almacénalas en una lista y calcula el promedio de temperatura."
   ]
  },
  {
   "cell_type": "code",
   "execution_count": 3,
   "metadata": {},
   "outputs": [
    {
     "name": "stdout",
     "output_type": "stream",
     "text": [
      "49.7\n",
      "29.3\n",
      "24.8\n",
      "47.7\n",
      "18.4\n",
      "18.5\n",
      "22.1\n",
      "26.0\n",
      "34.5\n",
      "40.5\n",
      "Las lecturas capturas son: [49.7, 29.3, 24.8, 47.7, 18.4, 18.5, 22.1, 26.0, 34.5, 40.5]\n"
     ]
    }
   ],
   "source": [
    "#Realizacion de ejercicio 3\n",
    "import random\n",
    "Temp = [] #Lista de temperaturas, vaci ya que apenas se le agregaran datos\n",
    "\n",
    "for i in range (0,10): #Se realizara el siguinete segmento de codigo 10 veces\n",
    "    lectemp =  round(random.uniform(14.0, 50.0), 1) #Se generan numeros random en un rango definido con un rendondeo de un decimal\n",
    "    Temp.append(lectemp) #Se agrega la lectura a la lista inicial\n",
    "    print(lectemp) #Se imprime para verificar que ha sido generado correctamente la lectura\n",
    "print(f\"Las lecturas capturas son: {Temp}\")  #Impresion de la lista final\n",
    "\n"
   ]
  },
  {
   "cell_type": "markdown",
   "metadata": {},
   "source": [
    "**Ejercicio 4:** Un sensor de corriente ha registrado valores anómalos. Filtra una lista de mediciones eliminando los valores fuera del rango `10 ≤ I ≤ 50`."
   ]
  },
  {
   "cell_type": "code",
   "execution_count": 14,
   "metadata": {},
   "outputs": [
    {
     "name": "stdout",
     "output_type": "stream",
     "text": [
      "[1, 3, 32, 6, 23, 43, 48, 29, 40, 17]\n"
     ]
    }
   ],
   "source": [
    "#Realizacion del ejercicio 4\n",
    "Sen_I = [1,342,123,3,54,32,6,23,43,48,204,29,40,17,297,392] #Generacion de lista\n",
    "\n",
    "for I in Sen_I[:]: #Se hace uso de una copia que evita un salto de posicion a la hora de descartar los elementos de la lista original, dado que evaluamos cada elento, una vez el valor entra en el ciclo es removido en la lista original\n",
    "    if 10 <= I >= 50:\n",
    "        Sen_I.remove(I)\n",
    "\n",
    "print(Sen_I)"
   ]
  },
  {
   "cell_type": "markdown",
   "metadata": {},
   "source": [
    "## 3. Diccionarios (Asociación de Datos)\n",
    "Los diccionarios permiten organizar y acceder a datos etiquetados."
   ]
  },
  {
   "cell_type": "markdown",
   "metadata": {},
   "source": [
    "**Ejercicio 5:** Crea un diccionario para almacenar información de tres sensores (`nombre`, `ubicación`, `unidad_medida`). Luego, imprime los detalles de cada sensor."
   ]
  },
  {
   "cell_type": "code",
   "execution_count": 17,
   "metadata": {},
   "outputs": [
    {
     "name": "stdout",
     "output_type": "stream",
     "text": [
      "Datos de sensor 1: {'nombre': 'Laser', 'ubicacion': 'Satelite', 'unidad_medida': '10000 kW'}\n",
      "Datos de sensor 2: {'nombre': 'Tostadora', 'ubicacion': 'Cocina', 'unidad_medida': '0.1 kW/h'}\n",
      "Datos de sensor 3: {'nombre': 'DHT_Temp', 'ubicacion': '-5.805926, -63.329067', 'unidad_medida': 'Centigrados'}\n"
     ]
    }
   ],
   "source": [
    "#Realizacion de ejercicio 5\n",
    "Sensor1 = {\n",
    "    \"nombre\": \"Laser\",\n",
    "    \"ubicacion\": \"Satelite\",\n",
    "    \"unidad_medida\": \"kW\"\n",
    "}\n",
    "\n",
    "Sensor2 = {\n",
    "    \"nombre\": \"Tostadora\",\n",
    "    \"ubicacion\": \"Cocina\",\n",
    "    \"unidad_medida\": \"kW/h\"\n",
    "}\n",
    "\n",
    "Sensor3 = {\n",
    "    \"nombre\": \"DHT_Temp\",\n",
    "    \"ubicacion\": \"-5.805926, -63.329067\",\n",
    "    \"unidad_medida\": \"Centigrados\"\n",
    "}\n",
    "\n",
    "print(\"Datos de sensor 1:\", Sensor1)\n",
    "print(\"Datos de sensor 2:\", Sensor2)\n",
    "print(\"Datos de sensor 3:\", Sensor3)"
   ]
  },
  {
   "cell_type": "markdown",
   "metadata": {},
   "source": [
    "**Ejercicio 6:** Dado un diccionario con lecturas de temperatura en diferentes momentos `{\"10:00 AM\": 22.5, \"10:10 AM\": 23.1, \"10:20 AM\": 22.8}`, agrega una nueva lectura y encuentra la temperatura más alta registrada."
   ]
  },
  {
   "cell_type": "code",
   "execution_count": 3,
   "metadata": {},
   "outputs": [
    {
     "name": "stdout",
     "output_type": "stream",
     "text": [
      "Datos del sensor de temperatura: {'10:00 AM': 22.5, '10:10 AM': 23.1, '10:20 AM': 22.8}\n",
      "Datos del sensor de temperatura actualizado: {'10:00 AM': 22.5, '10:10 AM': 23.1, '10:20 AM': 22.8, '10:30 AM': 16.5}\n",
      "Valor maximo de temperatura registrado 23.1\n"
     ]
    }
   ],
   "source": [
    "#Realizacion del ejercicio\n",
    "Senstemp= {\"10:00 AM\": 22.5, \"10:10 AM\": 23.1, \"10:20 AM\": 22.8} #generacion de diccionario dado\n",
    "print(\"Datos del sensor de temperatura:\", Senstemp) #Impresion del diccionario para observacion\n",
    "\n",
    "Senstemp.update({\"10:30 AM\": 16.5}) #Agregando un dato nuevo al diccionario\n",
    "print(\"Datos del sensor de temperatura actualizado:\", Senstemp) #Impresion del diccionario con nuevo dato\n",
    "\n",
    "max_temp = max(Senstemp.values()) #La funcion values sirve en los diccionarios para devolver solo los valores contenidos en el mismo, la funcion max selecciona el mayor de esos valores\n",
    "print(\"Valor maximo de temperatura registrado\",max_temp) #Imprension del valor mayor\n"
   ]
  },
  {
   "cell_type": "markdown",
   "metadata": {},
   "source": [
    "## 4. Conjuntos (Eliminación de Duplicados)\n",
    "Los conjuntos son útiles para manejar datos únicos."
   ]
  },
  {
   "cell_type": "markdown",
   "metadata": {},
   "source": [
    "**Ejercicio 7:** Un sensor ha detectado eventos en un sistema eléctrico, pero algunos están duplicados. Usa un conjunto para mantener solo eventos únicos."
   ]
  },
  {
   "cell_type": "code",
   "execution_count": 5,
   "metadata": {},
   "outputs": [
    {
     "name": "stdout",
     "output_type": "stream",
     "text": [
      "Voltaje capturado: [3.6, 4.5, 3.7, 3.7, 3.7, 4.2, 4.3, 3.6, 3.5]\n",
      "Voltaje sin repeticion de lectura: {3.7, 3.6, 4.5, 4.2, 4.3, 3.5}\n"
     ]
    }
   ],
   "source": [
    "#Filtrado de lecturas de voltaje diplicadas en una base de datos\n",
    "SensVolt = [3.6, 4.5, 3.7, 3.7,3.7, 4.2, 4.3, 3.6, 3.5] #Generacion de lista con lecturas de un sensor de voltaje\n",
    "SensVoltSR = set(SensVolt)\n",
    "print(\"Voltaje capturado:\", SensVolt)\n",
    "print(\"Voltaje sin repeticion de lectura:\", SensVoltSR)\n"
   ]
  },
  {
   "cell_type": "markdown",
   "metadata": {},
   "source": [
    "**Ejercicio 8:** Dados dos conjuntos con eventos detectados en dos sensores diferentes, encuentra qué eventos ocurrieron en ambos sensores."
   ]
  },
  {
   "cell_type": "code",
   "execution_count": 9,
   "metadata": {},
   "outputs": [
    {
     "name": "stdout",
     "output_type": "stream",
     "text": [
      "Los valores comunes en ambos sensores son: {2, 3, 6, 7, 8}\n"
     ]
    }
   ],
   "source": [
    "#Sensores de niveles de agua\n",
    "LvWa1 = [1,3,5,6,4,2,4,6,2,7,8,2,4,3] #lista con valores de nivel de agua en metros dadas por el sensor 1\n",
    "LvWa2 = [2,7,3,3,8,8,8,6,9,12,11,3] #lista con valores de nivel de agua en metros dadas por el sensor 2\n",
    "\n",
    "ValCom = set(LvWa1) & set(LvWa2) #Convertimos ambas listas en conjuntos con valores irrepetibles y se comparan los valores que pertenecen a ambos conjuntos\n",
    "print(\"Los valores comunes en ambos sensores son:\",ValCom)"
   ]
  },
  {
   "cell_type": "code",
   "execution_count": null,
   "metadata": {},
   "outputs": [],
   "source": []
  }
 ],
 "metadata": {
  "kernelspec": {
   "display_name": "Python 3 (ipykernel)",
   "language": "python",
   "name": "python3"
  },
  "language_info": {
   "codemirror_mode": {
    "name": "ipython",
    "version": 3
   },
   "file_extension": ".py",
   "mimetype": "text/x-python",
   "name": "python",
   "nbconvert_exporter": "python",
   "pygments_lexer": "ipython3",
   "version": "3.13.2"
  }
 },
 "nbformat": 4,
 "nbformat_minor": 4
}
